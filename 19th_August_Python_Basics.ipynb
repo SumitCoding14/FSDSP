{
 "cells": [
  {
   "cell_type": "markdown",
   "id": "f9c7bd30-9b1b-4a35-a218-81bc0737a2d6",
   "metadata": {},
   "source": [
    "Python Basics Variable"
   ]
  },
  {
   "cell_type": "code",
   "execution_count": 1,
   "id": "336def1f-b83c-460b-965b-553c006647c2",
   "metadata": {},
   "outputs": [
    {
     "name": "stdout",
     "output_type": "stream",
     "text": [
      "Original values: x = 5 , y = 10\n",
      "Swapped values: x = 10 , y = 5\n"
     ]
    }
   ],
   "source": [
    "#1. Swap Variables Without Using Temporary Variable\n",
    "\n",
    "# Declare two variables and assign values\n",
    "x = 5\n",
    "y = 10\n",
    "\n",
    "# Print original values\n",
    "print(\"Original values: x =\", x, \", y =\", y)\n",
    "\n",
    "# Swap values without using temporary variable\n",
    "x = x + y\n",
    "y = x - y\n",
    "x = x - y\n",
    "\n",
    "# Print swapped values\n",
    "print(\"Swapped values: x =\", x, \", y =\", y)\n"
   ]
  },
  {
   "cell_type": "code",
   "execution_count": 2,
   "id": "9d940a47-9e83-4761-9811-1caaa6c53ad7",
   "metadata": {},
   "outputs": [
    {
     "name": "stdin",
     "output_type": "stream",
     "text": [
      "Enter length of the rectangle:  12.5\n",
      "Enter width of the rectangle:  33.2\n"
     ]
    },
    {
     "name": "stdout",
     "output_type": "stream",
     "text": [
      "The area of the rectangle is: 415.00000000000006\n"
     ]
    }
   ],
   "source": [
    "#2. Calculate Area of a Rectangle\n",
    "# Take length and width as inputs from user\n",
    "length = float(input(\"Enter length of the rectangle: \"))\n",
    "width = float(input(\"Enter width of the rectangle: \"))\n",
    "\n",
    "# Calculate area\n",
    "area = length * width\n",
    "\n",
    "# Display the area\n",
    "print(\"The area of the rectangle is:\", area)\n",
    "\n"
   ]
  },
  {
   "cell_type": "code",
   "execution_count": 3,
   "id": "58c65454-38ef-4528-9d59-0d2d85e377b4",
   "metadata": {},
   "outputs": [
    {
     "name": "stdin",
     "output_type": "stream",
     "text": [
      "Enter temperature in Celsius:  236.25\n"
     ]
    },
    {
     "name": "stdout",
     "output_type": "stream",
     "text": [
      "Temperature in Fahrenheit: 457.25\n"
     ]
    }
   ],
   "source": [
    "#3. Convert Celsius to Fahrenheit\n",
    "\n",
    "# Take temperature in Celsius as input from user\n",
    "celsius = float(input(\"Enter temperature in Celsius: \"))\n",
    "\n",
    "# Convert Celsius to Fahrenheit\n",
    "fahrenheit = (celsius * 9/5) + 32\n",
    "\n",
    "# Display the result\n",
    "print(\"Temperature in Fahrenheit:\", fahrenheit)\n"
   ]
  },
  {
   "cell_type": "markdown",
   "id": "ed48ad06-1a0b-4806-8457-7d055449e00c",
   "metadata": {},
   "source": [
    "String Based Questions"
   ]
  },
  {
   "cell_type": "code",
   "execution_count": 4,
   "id": "787cbb43-9717-4051-9ace-8b388dbcfd0e",
   "metadata": {},
   "outputs": [
    {
     "name": "stdin",
     "output_type": "stream",
     "text": [
      "Enter a string:  Demo data\n"
     ]
    },
    {
     "name": "stdout",
     "output_type": "stream",
     "text": [
      "Length of the string: 9\n"
     ]
    }
   ],
   "source": [
    "#1. Calculate Length of a String\n",
    "\n",
    "# Take a string as input from the user\n",
    "input_string = input(\"Enter a string: \")\n",
    "\n",
    "# Calculate and print the length of the string\n",
    "length = len(input_string)\n",
    "print(\"Length of the string:\", length)"
   ]
  },
  {
   "cell_type": "code",
   "execution_count": 5,
   "id": "e8c0a5c2-c1ac-44dc-9575-e68274cf3a88",
   "metadata": {},
   "outputs": [
    {
     "name": "stdin",
     "output_type": "stream",
     "text": [
      "Enter a sentence:  ram is Good BOY\n"
     ]
    },
    {
     "name": "stdout",
     "output_type": "stream",
     "text": [
      "Number of vowels in the sentence: 5\n"
     ]
    }
   ],
   "source": [
    "#2. Count Vowels in a Sentence\n",
    "# Take a sentence as input from the user\n",
    "sentence = input(\"Enter a sentence: \")\n",
    "\n",
    "# Initialize a variable to count vowels\n",
    "vowel_count = 0\n",
    "\n",
    "# Loop through the characters in the sentence and count vowels\n",
    "for char in sentence:\n",
    "    if char.lower() in \"aeiou\":\n",
    "        vowel_count += 1\n",
    "\n",
    "# Display the count of vowels\n",
    "print(\"Number of vowels in the sentence:\", vowel_count)"
   ]
  },
  {
   "cell_type": "code",
   "execution_count": 6,
   "id": "85fc3b36-142f-45fe-9b24-c5ee02db3036",
   "metadata": {},
   "outputs": [
    {
     "name": "stdin",
     "output_type": "stream",
     "text": [
      "Enter a string:  sumitharit\n"
     ]
    },
    {
     "name": "stdout",
     "output_type": "stream",
     "text": [
      "Reversed string: tirahtimus\n"
     ]
    }
   ],
   "source": [
    "#3. Reverse a String\n",
    "\n",
    "# Take a string as input from the user\n",
    "input_string = input(\"Enter a string: \")\n",
    "\n",
    "# Reverse the string using string slicing and print it\n",
    "reversed_string = input_string[::-1]\n",
    "print(\"Reversed string:\", reversed_string)\n"
   ]
  },
  {
   "cell_type": "code",
   "execution_count": 8,
   "id": "06701aeb-1743-4e58-b8f6-c4cb20c3d0af",
   "metadata": {},
   "outputs": [
    {
     "name": "stdin",
     "output_type": "stream",
     "text": [
      "Enter a string:  tst\n"
     ]
    },
    {
     "name": "stdout",
     "output_type": "stream",
     "text": [
      "The string is a palindrome.\n"
     ]
    }
   ],
   "source": [
    "#4. Check if a String is a Palindrome\n",
    "# Take a string as input from the user\n",
    "input_string = input(\"Enter a string: \")\n",
    "\n",
    "# Remove spaces and convert to lowercase for comparison\n",
    "cleaned_string = input_string.replace(\" \", \"\").lower()\n",
    "\n",
    "# Check if the cleaned string is a palindrome\n",
    "if cleaned_string == cleaned_string[::-1]:\n",
    "    print(\"The string is a palindrome.\")\n",
    "else:\n",
    "    print(\"The string is not a palindrome.\")\n"
   ]
  },
  {
   "cell_type": "code",
   "execution_count": 9,
   "id": "67582368-4165-4a77-9338-dde6b18bb9f7",
   "metadata": {},
   "outputs": [
    {
     "name": "stdin",
     "output_type": "stream",
     "text": [
      "Enter a string:  this is a demo text\n"
     ]
    },
    {
     "name": "stdout",
     "output_type": "stream",
     "text": [
      "Modified string without spaces: thisisademotext\n"
     ]
    }
   ],
   "source": [
    "#5. Remove Spaces from a String\n",
    "# Take a string as input from the user\n",
    "input_string = input(\"Enter a string: \")\n",
    "\n",
    "# Remove spaces from the string and print the modified string\n",
    "modified_string = input_string.replace(\" \", \"\")\n",
    "print(\"Modified string without spaces:\", modified_string)\n"
   ]
  }
 ],
 "metadata": {
  "kernelspec": {
   "display_name": "Python 3 (ipykernel)",
   "language": "python",
   "name": "python3"
  },
  "language_info": {
   "codemirror_mode": {
    "name": "ipython",
    "version": 3
   },
   "file_extension": ".py",
   "mimetype": "text/x-python",
   "name": "python",
   "nbconvert_exporter": "python",
   "pygments_lexer": "ipython3",
   "version": "3.10.8"
  }
 },
 "nbformat": 4,
 "nbformat_minor": 5
}
